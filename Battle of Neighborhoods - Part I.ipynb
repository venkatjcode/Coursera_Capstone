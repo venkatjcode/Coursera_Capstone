{
    "cells": [
        {
            "cell_type": "markdown",
            "metadata": {
                "collapsed": true
            },
            "source": "<h1 align=center><font size = 5>Capstone Project - The Battle of Neighborhoods</font></h1>"
        },
        {
            "cell_type": "markdown",
            "metadata": {},
            "source": "<h1 align=left><font size = 3>Introduction</font></h1>"
        },
        {
            "cell_type": "markdown",
            "metadata": {},
            "source": "There\u2019s an influx of tech companies moving to Austin. Lower costs, laid-back lifestyle continue to draw tech companies to Austin, Texas. According to the Austin Chamber of Commerce, 58 major companies relocated to the Austin area in 2019 alone \u2013 not including tech giants such as Apple, Amazon, and Google, who opened new offices in the region. Tech companies aren\u2019t the only ones who are flocking to Austin, either. Nearly 100 other companies in various sectors have announced that they are moving to the area or expanding their local operations in the coming year. Tens of thousands of well-paying new jobs are on their way to Austin, with more being announced every day."
        },
        {
            "cell_type": "markdown",
            "metadata": {},
            "source": "<h1 align=left><font size = 3>Business Problem</font></h1>"
        },
        {
            "cell_type": "markdown",
            "metadata": {},
            "source": "All those jobs are going to require smart, motivated, skilled workers to fill them. And those workers need places to live and restaurants or food joints to eat. The objective of this capstone project is to find the most suitable location for an entrepreneur to open a new Italian restaurant in Austin, Texas. By using data science and machine learning methods such as clustering, this project will recommend a best suitable location to open a new Italian restaurant. As with any business, restaurant in particular location is of utmost importance, so we will take serveral things into consideration and suggest an optimal location."
        },
        {
            "cell_type": "markdown",
            "metadata": {},
            "source": "<h1 align=left><font size = 3>Data</font></h1>"
        },
        {
            "cell_type": "markdown",
            "metadata": {},
            "source": "Following data is required for this project:\n<br>\n<li> List of Austin neighborhoods scraped from Wikipedia page that contains list of Austin neighborhoods </li>\n<br>\n<li> Latitude and Longitude of these neighborhoods, which can be obtained from Geocoder package</li>\n<br>\n<li> Venue data related to these neighborhoods that can be obtained using Foursquare API</li>\n<br>"
        }
    ],
    "metadata": {
        "kernelspec": {
            "display_name": "Python 3.7",
            "language": "python",
            "name": "python3"
        },
        "language_info": {
            "codemirror_mode": {
                "name": "ipython",
                "version": 3
            },
            "file_extension": ".py",
            "mimetype": "text/x-python",
            "name": "python",
            "nbconvert_exporter": "python",
            "pygments_lexer": "ipython3",
            "version": "3.7.9"
        }
    },
    "nbformat": 4,
    "nbformat_minor": 1
}